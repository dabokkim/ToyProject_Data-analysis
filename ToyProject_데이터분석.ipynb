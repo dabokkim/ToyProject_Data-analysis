{
 "cells": [
  {
   "cell_type": "markdown",
   "id": "4057d4f5",
   "metadata": {},
   "source": [
    "## 행복지수 데이터 분석"
   ]
  },
  {
   "cell_type": "code",
   "execution_count": 15,
   "id": "0a76990d",
   "metadata": {},
   "outputs": [
    {
     "data": {
      "text/html": [
       "<div>\n",
       "<style scoped>\n",
       "    .dataframe tbody tr th:only-of-type {\n",
       "        vertical-align: middle;\n",
       "    }\n",
       "\n",
       "    .dataframe tbody tr th {\n",
       "        vertical-align: top;\n",
       "    }\n",
       "\n",
       "    .dataframe thead th {\n",
       "        text-align: right;\n",
       "    }\n",
       "</style>\n",
       "<table border=\"1\" class=\"dataframe\">\n",
       "  <thead>\n",
       "    <tr style=\"text-align: right;\">\n",
       "      <th></th>\n",
       "      <th>Country or region</th>\n",
       "      <th>GDP per capita</th>\n",
       "      <th>Social support</th>\n",
       "      <th>Freedom to make life choices</th>\n",
       "      <th>Generosity</th>\n",
       "      <th>Healthy life expectancy</th>\n",
       "      <th>Perceptions of corruption</th>\n",
       "    </tr>\n",
       "  </thead>\n",
       "  <tbody>\n",
       "    <tr>\n",
       "      <th>0</th>\n",
       "      <td>Finland</td>\n",
       "      <td>1.285</td>\n",
       "      <td>1.500</td>\n",
       "      <td>0.662</td>\n",
       "      <td>0.160</td>\n",
       "      <td>0.961</td>\n",
       "      <td>0.478</td>\n",
       "    </tr>\n",
       "    <tr>\n",
       "      <th>1</th>\n",
       "      <td>Denmark</td>\n",
       "      <td>1.327</td>\n",
       "      <td>1.503</td>\n",
       "      <td>0.665</td>\n",
       "      <td>0.243</td>\n",
       "      <td>0.979</td>\n",
       "      <td>0.495</td>\n",
       "    </tr>\n",
       "    <tr>\n",
       "      <th>2</th>\n",
       "      <td>Switzerland</td>\n",
       "      <td>1.391</td>\n",
       "      <td>1.472</td>\n",
       "      <td>0.629</td>\n",
       "      <td>0.269</td>\n",
       "      <td>1.041</td>\n",
       "      <td>0.408</td>\n",
       "    </tr>\n",
       "    <tr>\n",
       "      <th>3</th>\n",
       "      <td>Iceland</td>\n",
       "      <td>1.327</td>\n",
       "      <td>1.548</td>\n",
       "      <td>0.662</td>\n",
       "      <td>0.362</td>\n",
       "      <td>1.001</td>\n",
       "      <td>0.145</td>\n",
       "    </tr>\n",
       "    <tr>\n",
       "      <th>4</th>\n",
       "      <td>Norway</td>\n",
       "      <td>1.424</td>\n",
       "      <td>1.495</td>\n",
       "      <td>0.670</td>\n",
       "      <td>0.288</td>\n",
       "      <td>1.008</td>\n",
       "      <td>0.434</td>\n",
       "    </tr>\n",
       "    <tr>\n",
       "      <th>...</th>\n",
       "      <td>...</td>\n",
       "      <td>...</td>\n",
       "      <td>...</td>\n",
       "      <td>...</td>\n",
       "      <td>...</td>\n",
       "      <td>...</td>\n",
       "      <td>...</td>\n",
       "    </tr>\n",
       "    <tr>\n",
       "      <th>148</th>\n",
       "      <td>Central African Republic</td>\n",
       "      <td>0.041</td>\n",
       "      <td>0.000</td>\n",
       "      <td>0.293</td>\n",
       "      <td>0.254</td>\n",
       "      <td>0.000</td>\n",
       "      <td>0.028</td>\n",
       "    </tr>\n",
       "    <tr>\n",
       "      <th>149</th>\n",
       "      <td>Rwanda</td>\n",
       "      <td>0.343</td>\n",
       "      <td>0.523</td>\n",
       "      <td>0.604</td>\n",
       "      <td>0.236</td>\n",
       "      <td>0.572</td>\n",
       "      <td>0.486</td>\n",
       "    </tr>\n",
       "    <tr>\n",
       "      <th>150</th>\n",
       "      <td>Zimbabwe</td>\n",
       "      <td>0.426</td>\n",
       "      <td>1.048</td>\n",
       "      <td>0.377</td>\n",
       "      <td>0.151</td>\n",
       "      <td>0.375</td>\n",
       "      <td>0.081</td>\n",
       "    </tr>\n",
       "    <tr>\n",
       "      <th>151</th>\n",
       "      <td>South Sudan</td>\n",
       "      <td>0.289</td>\n",
       "      <td>0.553</td>\n",
       "      <td>0.066</td>\n",
       "      <td>0.210</td>\n",
       "      <td>0.209</td>\n",
       "      <td>0.111</td>\n",
       "    </tr>\n",
       "    <tr>\n",
       "      <th>152</th>\n",
       "      <td>Afghanistan</td>\n",
       "      <td>0.301</td>\n",
       "      <td>0.356</td>\n",
       "      <td>0.000</td>\n",
       "      <td>0.135</td>\n",
       "      <td>0.266</td>\n",
       "      <td>0.001</td>\n",
       "    </tr>\n",
       "  </tbody>\n",
       "</table>\n",
       "<p>153 rows × 7 columns</p>\n",
       "</div>"
      ],
      "text/plain": [
       "            Country or region  GDP per capita  Social support  \\\n",
       "0                     Finland           1.285           1.500   \n",
       "1                     Denmark           1.327           1.503   \n",
       "2                 Switzerland           1.391           1.472   \n",
       "3                     Iceland           1.327           1.548   \n",
       "4                      Norway           1.424           1.495   \n",
       "..                        ...             ...             ...   \n",
       "148  Central African Republic           0.041           0.000   \n",
       "149                    Rwanda           0.343           0.523   \n",
       "150                  Zimbabwe           0.426           1.048   \n",
       "151               South Sudan           0.289           0.553   \n",
       "152               Afghanistan           0.301           0.356   \n",
       "\n",
       "     Freedom to make life choices  Generosity  Healthy life expectancy  \\\n",
       "0                           0.662       0.160                    0.961   \n",
       "1                           0.665       0.243                    0.979   \n",
       "2                           0.629       0.269                    1.041   \n",
       "3                           0.662       0.362                    1.001   \n",
       "4                           0.670       0.288                    1.008   \n",
       "..                            ...         ...                      ...   \n",
       "148                         0.293       0.254                    0.000   \n",
       "149                         0.604       0.236                    0.572   \n",
       "150                         0.377       0.151                    0.375   \n",
       "151                         0.066       0.210                    0.209   \n",
       "152                         0.000       0.135                    0.266   \n",
       "\n",
       "     Perceptions of corruption  \n",
       "0                        0.478  \n",
       "1                        0.495  \n",
       "2                        0.408  \n",
       "3                        0.145  \n",
       "4                        0.434  \n",
       "..                         ...  \n",
       "148                      0.028  \n",
       "149                      0.486  \n",
       "150                      0.081  \n",
       "151                      0.111  \n",
       "152                      0.001  \n",
       "\n",
       "[153 rows x 7 columns]"
      ]
     },
     "execution_count": 15,
     "metadata": {},
     "output_type": "execute_result"
    }
   ],
   "source": [
    "# csv파일 불러오기 & 데이터 전처리\n",
    "import pandas as pd\n",
    "df = pd.read_csv('final_dataset.csv')\n",
    "\n",
    "happiness_rank = df['Overall rank']\n",
    "\n",
    "happiness_rank2 = df.loc[df['Overall rank']==happiness_rank,['Country or region',\n",
    "                                                            'GDP per capita',\n",
    "                                                             'Social support',\n",
    "                                                            'Freedom to make life choices',\n",
    "                                                            'Generosity',\n",
    "                                                            'Healthy life expectancy',\n",
    "                                                            'Perceptions of corruption']] # 데이터 전처리\n",
    "happiness_rank2"
   ]
  },
  {
   "cell_type": "markdown",
   "id": "d885c616",
   "metadata": {},
   "source": [
    "## "
   ]
  },
  {
   "cell_type": "markdown",
   "id": "c70e7969",
   "metadata": {},
   "source": [
    "## 무엇이 행복을 결정하는가?\n",
    "<li> 수입이 충분한가 - 1인당 국내총생산(GDP per capita)\n",
    "<li> 타인에 대한 신뢰와 사회적 응집력 - 사회적 지원(social support)\n",
    "<li> 삶의 자율성 - 삶의 선택의 자유(Freedom to make life choices)\n",
    "<li> 복지국가의 관대함(이해를 받을 수 있는가) - 관용(Generosity)\n",
    "<li> 건강하게 오래 살 수 있는가 - 평균 수명(Healthy life expectancy)\n",
    "<li> 공정한 사회에 살고 있는가 - 부정부패에 대한 인식(Perceptions of corruption)"
   ]
  },
  {
   "cell_type": "markdown",
   "id": "f11d7e26",
   "metadata": {},
   "source": [
    "## "
   ]
  },
  {
   "cell_type": "markdown",
   "id": "fd5703e0",
   "metadata": {},
   "source": [
    "## 가설설정\n",
    "<li> 1인당 GDP는 행복의 결정적인 요인일 것이다.\n",
    "<li> 행복지수가 높은 나라는 평균수명이 길 것이다."
   ]
  },
  {
   "cell_type": "markdown",
   "id": "a903a945",
   "metadata": {},
   "source": [
    "## "
   ]
  },
  {
   "cell_type": "markdown",
   "id": "0a91c0aa",
   "metadata": {},
   "source": [
    "## 행복지수가 높은 상위 5개 국가"
   ]
  },
  {
   "cell_type": "code",
   "execution_count": 17,
   "id": "dd50d6ad",
   "metadata": {
    "scrolled": false
   },
   "outputs": [],
   "source": [
    "# 행복지수가 높은 상위 5개 국가\n",
    "import matplotlib.pyplot as plt\n",
    "import pandas as pd\n",
    "df = pd.read_csv('final_dataset.csv')\n",
    "\n",
    "df_sorted_by_values = df.sort_values(by='Score' ,ascending=False) # Score 수치가 높은순으로 정렬\n",
    "Generosity = df_sorted_by_values.head(5)  # 정렬된 수치의 상위 5개만 추출\n",
    "\n",
    "avg = sum(df['Score'])/len(df['Score'])  # 행복지수(Score) 평균\n",
    "happiness_max = max(df['Score']) # 행복지수(Score) 최대값\n",
    "happiness_min = min(df['Score']) # 행복지수(Score) 최소값\n",
    "\n",
    "df_by_group = Generosity.reset_index()\n",
    "df_by_group.plot.bar(x='Country or region',y='Score',rot=0, color=['skyblue']) # rot : x축 라벨의 회전 각도 설정\n",
    "\n",
    "plt.ylabel(\"Score\")\n",
    "plt.axhline(happiness_max, linestyle = '--') # 최대값 점선으로 표시\n",
    "plt.axhline(happiness_min, linestyle = '--') # 최소값 점선으로 표시\n",
    "plt.axhline(avg, linestyle = '--') # 평균값 점선으로 표시\n",
    "plt.title(\"Score_rank\")\n",
    "plt.savefig('happiness.png') # 그래프를 png형식으로 저장\n",
    "plt.show()"
   ]
  },
  {
   "cell_type": "markdown",
   "id": "8e4b38f8",
   "metadata": {},
   "source": [
    "## "
   ]
  },
  {
   "cell_type": "markdown",
   "id": "fd605f85",
   "metadata": {},
   "source": [
    "## 행복지수 상위 5개 국가의 관용(Generosity) "
   ]
  },
  {
   "cell_type": "code",
   "execution_count": 27,
   "id": "733d6554",
   "metadata": {
    "scrolled": true
   },
   "outputs": [
    {
     "data": {
      "image/png": "[encoded data removed]",
      "text/plain": [
       "<Figure size 432x288 with 1 Axes>"
      ]
     },
     "metadata": {
      "needs_background": "light"
     },
     "output_type": "display_data"
    }
   ],
   "source": [
    "# 행복지수 상위 5개 국가의 관용(Generosity)\n",
    "import matplotlib.pyplot as plt\n",
    "import pandas as pd\n",
    "df = pd.read_csv('final_dataset.csv')\n",
    "\n",
    "df_sorted_by_values = df.sort_values(by='Score' ,ascending=False) # Score 수치가 높은순으로 정렬\n",
    "Generosity = df_sorted_by_values.head(5)  # 정렬된 수치의 상위 5개만 추출\n",
    "\n",
    "Generosity_avg = sum(df['Generosity'])/len(df['Generosity']) # 관용(Generosity) 평균값\n",
    "Generosity_max = max(df['Generosity']) # 관용(Generosity) 최대값\n",
    "Generosity_min = min(df['Generosity']) # 관용(Generosity) 최소값\n",
    "\n",
    "df_by_group = Generosity.reset_index()\n",
    "df_by_group.plot.bar(x='Country or region',y='Generosity',rot=0, color=['skyblue']) # rot : x축 라벨의 회전 각도 설정\n",
    "\n",
    "plt.axhline(Generosity_max, linestyle = '--') # 최대값 점선으로 표시\n",
    "plt.axhline(Generosity_min, linestyle = '--') # 최소값 점선으로 표시\n",
    "plt.axhline(Generosity_avg, linestyle = '--') # 평균값 점선으로 표시\n",
    "plt.title(\"Generosity_rank\")\n",
    "plt.savefig('Generosity.png') # 그래프를 png형식으로 저장\n",
    "plt.show()"
   ]
  },
  {
   "cell_type": "markdown",
   "id": "61252395",
   "metadata": {},
   "source": [
    "## "
   ]
  },
  {
   "cell_type": "markdown",
   "id": "5bc48c9f",
   "metadata": {},
   "source": [
    "## 행복지수 상위 5개 국가의 부정부패에 대한 인식(Perceptions of corruption) "
   ]
  },
  {
   "cell_type": "code",
   "execution_count": 9,
   "id": "369ae455",
   "metadata": {
    "scrolled": true
   },
   "outputs": [
    {
     "data": {
      "image/png": "[encoded data removed]",
      "text/plain": [
       "<Figure size 432x288 with 1 Axes>"
      ]
     },
     "metadata": {
      "needs_background": "light"
     },
     "output_type": "display_data"
    }
   ],
   "source": [
    "# 행복지수 상위 5개 국가의 부정부패에 대한 인식(Perceptions of corruption)\n",
    "import matplotlib.pyplot as plt\n",
    "import pandas as pd\n",
    "df = pd.read_csv('final_dataset.csv')\n",
    "\n",
    "df_sorted_by_values = df.sort_values(by='Score' ,ascending=False) # Score 수치가 높은순으로 정렬\n",
    "Generosity = df_sorted_by_values.head(5)  # 정렬된 수치의 상위 5개만 추출\n",
    "\n",
    "corruption_avg = sum(df['Perceptions of corruption'])/len(df['Perceptions of corruption']) # 부정부패에 대한 인식 평균\n",
    "corruption_max = max(df['Perceptions of corruption']) # 부정부패에 대한 인식 최대값\n",
    "corruption_min = min(df['Perceptions of corruption']) # 부정부패에 대한 인식 최소값\n",
    "\n",
    "\n",
    "df_by_group = Generosity.reset_index()\n",
    "df_by_group.plot.bar(x='Country or region',y='Perceptions of corruption',rot=0, color=['skyblue']) # rot : x축 라벨의 회전 각도 설정\n",
    "\n",
    "plt.axhline(corruption_max, linestyle = '--') # 최대값 점선으로 표시\n",
    "plt.axhline(corruption_min, linestyle = '--') # 최소값 점선으로 표시\n",
    "plt.axhline(corruption_avg, linestyle = '--') # 평균값 점선으로 표시\n",
    "plt.title(\"Perceptions of corruption_rank\")\n",
    "plt.savefig('corruption.png') # 그래프를 png형식으로 저장\n",
    "plt.show()"
   ]
  },
  {
   "cell_type": "markdown",
   "id": "4252478f",
   "metadata": {},
   "source": [
    "## "
   ]
  },
  {
   "cell_type": "markdown",
   "id": "29e7ad69",
   "metadata": {},
   "source": [
    "## 행복지수 상위 5개 국가의 1인당 국내총생산(GDP per capita)"
   ]
  },
  {
   "cell_type": "code",
   "execution_count": 10,
   "id": "4aa06067",
   "metadata": {
    "scrolled": true
   },
   "outputs": [
    {
     "data": {
      "image/png": "[encoded data removed]",
      "text/plain": [
       "<Figure size 432x288 with 1 Axes>"
      ]
     },
     "metadata": {
      "needs_background": "light"
     },
     "output_type": "display_data"
    }
   ],
   "source": [
    "# 행복지수 상위 5개 국가의 1인당 국내총생산(GDP per capita)\n",
    "import matplotlib.pyplot as plt\n",
    "import pandas as pd\n",
    "df = pd.read_csv('final_dataset.csv')\n",
    "\n",
    "df_sorted_by_values = df.sort_values(by='Score' ,ascending=False) # Score 수치가 높은순으로 정렬\n",
    "Generosity = df_sorted_by_values.head(5)  # 정렬된 수치의 상위 5개만 추출\n",
    "\n",
    "GDP_avg = sum(df['GDP per capita'])/len(df['GDP per capita']) # 1인당 국내총생산 평균\n",
    "GDP_max = max(df['GDP per capita']) # 1인당 국내총생산 최대값\n",
    "GDP_min = min(df['GDP per capita']) # 1인당 국내총생산 최소값\n",
    "\n",
    "df_by_group = Generosity.reset_index()\n",
    "df_by_group.plot.bar(x='Country or region',y='GDP per capita',rot=0, color=['skyblue']) # rot : x축 라벨의 회전 각도 설정\n",
    "\n",
    "plt.axhline(GDP_max, linestyle = '--') # 최대값 점선으로 표시\n",
    "plt.axhline(GDP_min, linestyle = '--') # 최소값 점선으로 표시\n",
    "plt.axhline(GDP_avg, linestyle = '--') # 평균값 점선으로 표시\n",
    "plt.title(\"GDP per capita_rank\")\n",
    "plt.savefig('GDP.png') # 그래프를 png형식으로 저장\n",
    "plt.show()"
   ]
  },
  {
   "cell_type": "markdown",
   "id": "d181f83d",
   "metadata": {},
   "source": [
    "## "
   ]
  },
  {
   "cell_type": "markdown",
   "id": "4b4fd7a8",
   "metadata": {},
   "source": [
    "## 행복지수 상위 5개 국가의 삶의 선택의 자유(Freedom to make life choices)"
   ]
  },
  {
   "cell_type": "code",
   "execution_count": 11,
   "id": "b51f0fe3",
   "metadata": {
    "scrolled": true
   },
   "outputs": [
    {
     "data": {
      "image/png": "[encoded data removed]",
      "text/plain": [
       "<Figure size 432x288 with 1 Axes>"
      ]
     },
     "metadata": {
      "needs_background": "light"
     },
     "output_type": "display_data"
    }
   ],
   "source": [
    "# 행복지수 상위 5개 국가의 삶의 선택의 자유(Freedom to make life choices)\n",
    "import matplotlib.pyplot as plt\n",
    "import pandas as pd\n",
    "df = pd.read_csv('final_dataset.csv')\n",
    "\n",
    "df_sorted_by_values = df.sort_values(by='Score' ,ascending=False) # Score 수치가 높은순으로 정렬\n",
    "Generosity = df_sorted_by_values.head(5)  # 정렬된 수치의 상위 5개만 추출\n",
    "\n",
    "Freedom_avg = sum(df['Freedom to make life choices'])/len(df['Freedom to make life choices']) # 삶의 선택의 자유 평균\n",
    "Freedom_max = max(df['Freedom to make life choices']) # 삶의 선택의 자유 최대값\n",
    "Freedom_min = min(df['Freedom to make life choices']) # 삶의 선택의 자유 최소값\n",
    "\n",
    "df_by_group = Generosity.reset_index()\n",
    "df_by_group.plot.bar(x='Country or region',y='Freedom to make life choices',rot=0, color=['skyblue']) # rot : x축 라벨의 회전 각도 설정\n",
    "\n",
    "plt.axhline(Freedom_max, linestyle = '--') # 최대값 점선으로 표시\n",
    "plt.axhline(Freedom_min, linestyle = '--') # 최소값 점선으로 표시\n",
    "plt.axhline(Freedom_avg, linestyle = '--') # 평균값 점선으로 표시\n",
    "plt.title(\"Freedom to make life choices_rank\")\n",
    "plt.savefig('Freedom.png') # 그래프를 png형식으로 저장\n",
    "plt.show()"
   ]
  },
  {
   "cell_type": "markdown",
   "id": "3dab1107",
   "metadata": {},
   "source": [
    "## "
   ]
  },
  {
   "cell_type": "markdown",
   "id": "fbbde4c6",
   "metadata": {},
   "source": [
    "## 행복지수 상위 5개 국가의 사회적 지원(social support)"
   ]
  },
  {
   "cell_type": "code",
   "execution_count": 12,
   "id": "4ec10f9f",
   "metadata": {},
   "outputs": [
    {
     "data": {
      "image/png": "[encoded data removed]",
      "text/plain": [
       "<Figure size 432x288 with 1 Axes>"
      ]
     },
     "metadata": {
      "needs_background": "light"
     },
     "output_type": "display_data"
    }
   ],
   "source": [
    "# 행복지수 상위 5개 국가의 사회적 지원(social support)\n",
    "import matplotlib.pyplot as plt\n",
    "import pandas as pd\n",
    "df = pd.read_csv('final_dataset.csv')\n",
    "\n",
    "df_sorted_by_values = df.sort_values(by='Score' ,ascending=False) # Score 수치가 높은순으로 정렬\n",
    "Generosity = df_sorted_by_values.head(5)  # 정렬된 수치의 상위 5개만 추출\n",
    "\n",
    "Support_avg = sum(df['Social support'])/len(df['Social support']) # 사회적 지원 평균\n",
    "Support_max = max(df['Social support']) # 사회적 지원 최대값\n",
    "Support_min = min(df['Social support']) # 사회적 지원 최소값\n",
    "\n",
    "df_by_group = Generosity.reset_index()\n",
    "df_by_group.plot.bar(x='Country or region',y='Social support',rot=0, color=['skyblue']) # rot : x축 라벨의 회전 각도 설정\n",
    "\n",
    "plt.axhline(Support_max, linestyle = '--') # 최대값 점선으로 표시\n",
    "plt.axhline(Support_min, linestyle = '--') # 최소값 점선으로 표시\n",
    "plt.axhline(Support_avg, linestyle = '--') # 평균값 점선으로 표시\n",
    "plt.title(\"Social support_rank\")\n",
    "plt.savefig('support.png') # 그래프를 png형식으로 저장\n",
    "plt.show()"
   ]
  },
  {
   "cell_type": "markdown",
   "id": "cc643e43",
   "metadata": {},
   "source": [
    "## "
   ]
  },
  {
   "cell_type": "markdown",
   "id": "50748f86",
   "metadata": {},
   "source": [
    "##  결론\n",
    "<li> 많고 균등한 소득 자체가 행복도에 연관을 미친다는 직접적인 연구 결과는 없다. 하지만 어느정도 연관은 있는 것으로 보인다.\n",
    "<li> 위의 데이터분석 결과를 종합해 보았을 때 행복을 결정하는 6가지요인을 모두 고루 갖춘 나라가 행복지수가 높게 나왔다.\n",
    "    복지국가에서의 소득 재분배와 이에 따른 결과적 평등을 받아들이는 사람들의 인식 자체가 높은 행복도에 기여한다고 볼 수 있다."
   ]
  },
  {
   "cell_type": "markdown",
   "id": "e5c3f17e",
   "metadata": {},
   "source": [
    "## "
   ]
  },
  {
   "cell_type": "code",
   "execution_count": null,
   "id": "65c1746a",
   "metadata": {},
   "outputs": [],
   "source": []
  },
  {
   "cell_type": "code",
   "execution_count": null,
   "id": "68b33bd2",
   "metadata": {},
   "outputs": [],
   "source": []
  }
 ],
 "metadata": {
  "kernelspec": {
   "display_name": "Python 3",
   "language": "python",
   "name": "python3"
  },
  "language_info": {
   "codemirror_mode": {
    "name": "ipython",
    "version": 3
   },
   "file_extension": ".py",
   "mimetype": "text/x-python",
   "name": "python",
   "nbconvert_exporter": "python",
   "pygments_lexer": "ipython3",
   "version": "3.8.8"
  }
 },
 "nbformat": 4,
 "nbformat_minor": 5
}
